{
 "cells": [
  {
   "cell_type": "code",
   "execution_count": 1,
   "id": "satellite-dubai",
   "metadata": {},
   "outputs": [],
   "source": [
    "import pandas as pd\n",
    "import numpy as np\n",
    "import matplotlib.pyplot as plt\n",
    "import seaborn as sns"
   ]
  },
  {
   "cell_type": "markdown",
   "id": "satisfactory-theorem",
   "metadata": {},
   "source": [
    "## OBJECTIVE\n",
    "\n",
    "- In this section, we will buid MachineLearning model to predict whether employee resign or not."
   ]
  },
  {
   "cell_type": "markdown",
   "id": "anticipated-domestic",
   "metadata": {},
   "source": [
    "### Load Data"
   ]
  },
  {
   "cell_type": "code",
   "execution_count": 2,
   "id": "otherwise-coach",
   "metadata": {},
   "outputs": [],
   "source": [
    "df_ori = pd.read_csv(\"dataset HR analytics.csv\")\n",
    "df = pd.read_excel('data_clean.xlsx')"
   ]
  },
  {
   "cell_type": "markdown",
   "id": "mental-grain",
   "metadata": {},
   "source": [
    "### Check Missing Value"
   ]
  },
  {
   "cell_type": "code",
   "execution_count": 3,
   "id": "eligible-egyptian",
   "metadata": {},
   "outputs": [
    {
     "data": {
      "text/plain": [
       "MaritalStatusID         0\n",
       "GenderID                0\n",
       "EmpStatusID             0\n",
       "RoleID                  0\n",
       "LevelID                 0\n",
       "PerfScoreID             0\n",
       "Tribe                   0\n",
       "RaceDesc                0\n",
       "RecruitmentSource       0\n",
       "EngagementSurvey        0\n",
       "EmpSatisfaction         0\n",
       "SpecialProjectsCount    0\n",
       "DaysLateLast30          0\n",
       "Absences                0\n",
       "YearsOfWorking          0\n",
       "Age                     0\n",
       "DaysLastReview          0\n",
       "PerfValue               0\n",
       "LevelValue              0\n",
       "ActiveStatus            0\n",
       "dtype: int64"
      ]
     },
     "execution_count": 3,
     "metadata": {},
     "output_type": "execute_result"
    }
   ],
   "source": [
    "df.isnull().sum()"
   ]
  },
  {
   "cell_type": "markdown",
   "id": "organic-opinion",
   "metadata": {},
   "source": [
    "### Splitting Data Train - Test Split"
   ]
  },
  {
   "cell_type": "code",
   "execution_count": 4,
   "id": "stunning-absence",
   "metadata": {},
   "outputs": [],
   "source": [
    "from sklearn.model_selection import train_test_split, cross_val_score, KFold"
   ]
  },
  {
   "cell_type": "code",
   "execution_count": 5,
   "id": "communist-province",
   "metadata": {},
   "outputs": [],
   "source": [
    "df_fix = df.drop(['LevelID','PerfScoreID'], axis=1)"
   ]
  },
  {
   "cell_type": "code",
   "execution_count": 6,
   "id": "dried-vertical",
   "metadata": {},
   "outputs": [],
   "source": [
    "X = df_fix.drop('ActiveStatus', axis =1).copy()\n",
    "y = df_fix['ActiveStatus'].map({'Yes' : 1, 'No': 0}).copy()"
   ]
  },
  {
   "cell_type": "code",
   "execution_count": 7,
   "id": "median-therapist",
   "metadata": {},
   "outputs": [],
   "source": [
    "X_train, X_test, y_train, y_test = train_test_split(X, y, test_size = 0.2, stratify=y, random_state = 24)"
   ]
  },
  {
   "cell_type": "markdown",
   "id": "honey-message",
   "metadata": {},
   "source": [
    "- We split the Data into 80% training and 20% testing.\n",
    "- Then, dont forget to stratify the data, to keep our class portion is the same."
   ]
  },
  {
   "cell_type": "code",
   "execution_count": 10,
   "id": "wireless-chase",
   "metadata": {},
   "outputs": [
    {
     "name": "stdout",
     "output_type": "stream",
     "text": [
      "The Portion of YES and NO Class in ENTIRE DATA\n",
      "1    0.675958\n",
      "0    0.324042\n",
      "Name: ActiveStatus, dtype: float64\n",
      "----------------------------------------\n",
      "The Portion of YES and NO Class in TRAINING DATA\n",
      "1    0.676856\n",
      "0    0.323144\n",
      "Name: ActiveStatus, dtype: float64\n",
      "----------------------------------------\n",
      "The Portion of YES and NO Class in TEST DATA\n",
      "1    0.672414\n",
      "0    0.327586\n",
      "Name: ActiveStatus, dtype: float64\n"
     ]
    }
   ],
   "source": [
    "print('The Portion of YES and NO Class in ENTIRE DATA')\n",
    "print(y.value_counts()/len(y))\n",
    "print('-'*40)\n",
    "print('The Portion of YES and NO Class in TRAINING DATA')\n",
    "print(y_train.value_counts()/len(y_train))\n",
    "print('-'*40)\n",
    "print('The Portion of YES and NO Class in TEST DATA')\n",
    "print(y_test.value_counts()/len(y_test))"
   ]
  },
  {
   "cell_type": "markdown",
   "id": "located-partner",
   "metadata": {},
   "source": [
    "- Since we already split train and test data with stratify mode, but it is for Training and Test Data, for Training and Entire data we have to make sure the portion is equal.\n",
    "- After we check, the portion is equal between ENTIRE data and TRAINING data as above."
   ]
  },
  {
   "cell_type": "markdown",
   "id": "floating-yugoslavia",
   "metadata": {},
   "source": [
    "### Make Pipeline "
   ]
  },
  {
   "cell_type": "code",
   "execution_count": 11,
   "id": "hourly-guest",
   "metadata": {},
   "outputs": [],
   "source": [
    "from sklearn.preprocessing import OneHotEncoder, MinMaxScaler, StandardScaler, RobustScaler\n",
    "from sklearn.compose import ColumnTransformer\n",
    "from sklearn.pipeline import Pipeline"
   ]
  },
  {
   "cell_type": "code",
   "execution_count": 12,
   "id": "advised-library",
   "metadata": {},
   "outputs": [
    {
     "name": "stdout",
     "output_type": "stream",
     "text": [
      "['EngagementSurvey', 'EmpSatisfaction', 'SpecialProjectsCount', 'DaysLateLast30', 'Absences', 'Age', 'DaysLastReview', 'PerfValue', 'LevelValue']\n",
      "['MaritalStatusID', 'GenderID', 'EmpStatusID', 'RoleID', 'Tribe', 'RaceDesc', 'RecruitmentSource']\n"
     ]
    }
   ],
   "source": [
    "numerical_ix = list(X.select_dtypes(include=['int64', 'float64']).columns)\n",
    "categorical_ix = list(X.select_dtypes(include=['object', 'bool']).columns)\n",
    "numerical_ix.remove('YearsOfWorking')\n",
    "\n",
    "print(numerical_ix)\n",
    "print(categorical_ix)"
   ]
  },
  {
   "cell_type": "code",
   "execution_count": 13,
   "id": "aboriginal-justice",
   "metadata": {},
   "outputs": [],
   "source": [
    "numeric_transformer1 = StandardScaler() # for normal distribution \"YearsofWorking\"\n",
    "numeric_transformer2 = MinMaxScaler()   # for not normal distribution feature\n",
    "categorical_transformer = OneHotEncoder(handle_unknown='ignore') # for Categorical Feature"
   ]
  },
  {
   "cell_type": "code",
   "execution_count": 14,
   "id": "contrary-stockholm",
   "metadata": {},
   "outputs": [],
   "source": [
    "preprocessor = ColumnTransformer(transformers = [\n",
    "                 ('Normal', numeric_transformer1, ['YearsOfWorking']),\n",
    "                 ('Not_normal', numeric_transformer2, numerical_ix),\n",
    "                 ('Cat', categorical_transformer, categorical_ix)])"
   ]
  },
  {
   "cell_type": "markdown",
   "id": "streaming-promotion",
   "metadata": {},
   "source": [
    "- This step, we create the preprocessing step, to make easier when we train the model.\n",
    "- For Categorical Feature we use onehotencoder, and for Continues Feature we use Standard Scaler and MinMax Scaler.\n",
    "- Note : YearsofWorking is Normally Distributed, we already knew that from EDA section before."
   ]
  },
  {
   "cell_type": "markdown",
   "id": "arbitrary-drama",
   "metadata": {},
   "source": [
    "### Building Model for Training - Testing"
   ]
  },
  {
   "cell_type": "markdown",
   "id": "urban-gross",
   "metadata": {},
   "source": [
    "- We will try 5 Models to see which one does it better in seperating Positive and Negative Class ;\n",
    "    - Logistic Regression from Linear model\n",
    "    - Ensemble Model, we try model Random Forest and Gradient Boosting\n",
    "    - Neighbors Model, we try KNN Classifier\n",
    "    - And lastly, we are also interested in Support Vector Machine"
   ]
  },
  {
   "cell_type": "code",
   "execution_count": 15,
   "id": "periodic-granny",
   "metadata": {},
   "outputs": [],
   "source": [
    "from sklearn.metrics import  accuracy_score, roc_curve, f1_score, precision_score, confusion_matrix, recall_score, roc_auc_score\n",
    "from sklearn.linear_model import LogisticRegression\n",
    "from sklearn.ensemble import RandomForestClassifier, GradientBoostingClassifier\n",
    "from sklearn.svm import SVC\n",
    "from sklearn.neighbors import KNeighborsClassifier"
   ]
  },
  {
   "cell_type": "code",
   "execution_count": 16,
   "id": "lucky-civilian",
   "metadata": {},
   "outputs": [],
   "source": [
    "def evaluate_matrix(ytrue, ypred, name):\n",
    "    matrix_name = ['Model', 'Accuracy', 'Precision', 'Recall', 'F1_Score','ROC']\n",
    "    acc = accuracy_score(ytrue, ypred)\n",
    "    roc = roc_auc_score(ytrue, ypred)\n",
    "    prec = precision_score(ytrue, ypred, average='weighted')\n",
    "    rec = recall_score(ytrue, ypred, average='weighted')\n",
    "    f1 = f1_score(ytrue, ypred, average='weighted')\n",
    "    \n",
    "    matrix_dict = dict(zip(matrix_name, [name, acc, prec, rec, f1, roc]))\n",
    "    \n",
    "    return matrix_dict"
   ]
  },
  {
   "cell_type": "code",
   "execution_count": 17,
   "id": "suitable-occupation",
   "metadata": {
    "scrolled": false
   },
   "outputs": [
    {
     "data": {
      "image/png": "[encoded data removed]",
      "text/plain": [
       "<Figure size 576x504 with 1 Axes>"
      ]
     },
     "metadata": {
      "needs_background": "light"
     },
     "output_type": "display_data"
    },
    {
     "data": {
      "text/html": [
       "<div>\n",
       "<style scoped>\n",
       "    .dataframe tbody tr th:only-of-type {\n",
       "        vertical-align: middle;\n",
       "    }\n",
       "\n",
       "    .dataframe tbody tr th {\n",
       "        vertical-align: top;\n",
       "    }\n",
       "\n",
       "    .dataframe thead th {\n",
       "        text-align: right;\n",
       "    }\n",
       "</style>\n",
       "<table border=\"1\" class=\"dataframe\">\n",
       "  <thead>\n",
       "    <tr style=\"text-align: right;\">\n",
       "      <th></th>\n",
       "      <th>Model</th>\n",
       "      <th>Accuracy</th>\n",
       "      <th>Precision</th>\n",
       "      <th>Recall</th>\n",
       "      <th>F1_Score</th>\n",
       "      <th>ROC</th>\n",
       "      <th>Cross_Val_Acc</th>\n",
       "    </tr>\n",
       "  </thead>\n",
       "  <tbody>\n",
       "    <tr>\n",
       "      <th>0</th>\n",
       "      <td>RandomForestClassifier</td>\n",
       "      <td>0.913793</td>\n",
       "      <td>0.923589</td>\n",
       "      <td>0.913793</td>\n",
       "      <td>0.909859</td>\n",
       "      <td>0.868421</td>\n",
       "      <td>0.909316</td>\n",
       "    </tr>\n",
       "    <tr>\n",
       "      <th>1</th>\n",
       "      <td>GradientBoostingClassifier</td>\n",
       "      <td>0.879310</td>\n",
       "      <td>0.884908</td>\n",
       "      <td>0.879310</td>\n",
       "      <td>0.873802</td>\n",
       "      <td>0.829285</td>\n",
       "      <td>0.937508</td>\n",
       "    </tr>\n",
       "    <tr>\n",
       "      <th>2</th>\n",
       "      <td>LogisticRegression</td>\n",
       "      <td>0.758621</td>\n",
       "      <td>0.749779</td>\n",
       "      <td>0.758621</td>\n",
       "      <td>0.744612</td>\n",
       "      <td>0.685560</td>\n",
       "      <td>0.797822</td>\n",
       "    </tr>\n",
       "    <tr>\n",
       "      <th>3</th>\n",
       "      <td>KNeighborsClassifier</td>\n",
       "      <td>0.758621</td>\n",
       "      <td>0.750067</td>\n",
       "      <td>0.758621</td>\n",
       "      <td>0.750309</td>\n",
       "      <td>0.699055</td>\n",
       "      <td>0.766425</td>\n",
       "    </tr>\n",
       "    <tr>\n",
       "      <th>4</th>\n",
       "      <td>SVC</td>\n",
       "      <td>0.793103</td>\n",
       "      <td>0.797372</td>\n",
       "      <td>0.793103</td>\n",
       "      <td>0.775140</td>\n",
       "      <td>0.711201</td>\n",
       "      <td>0.815064</td>\n",
       "    </tr>\n",
       "  </tbody>\n",
       "</table>\n",
       "</div>"
      ],
      "text/plain": [
       "                        Model  Accuracy  Precision    Recall  F1_Score  \\\n",
       "0      RandomForestClassifier  0.913793   0.923589  0.913793  0.909859   \n",
       "1  GradientBoostingClassifier  0.879310   0.884908  0.879310  0.873802   \n",
       "2          LogisticRegression  0.758621   0.749779  0.758621  0.744612   \n",
       "3        KNeighborsClassifier  0.758621   0.750067  0.758621  0.750309   \n",
       "4                         SVC  0.793103   0.797372  0.793103  0.775140   \n",
       "\n",
       "        ROC  Cross_Val_Acc  \n",
       "0  0.868421       0.909316  \n",
       "1  0.829285       0.937508  \n",
       "2  0.685560       0.797822  \n",
       "3  0.699055       0.766425  \n",
       "4  0.711201       0.815064  "
      ]
     },
     "metadata": {},
     "output_type": "display_data"
    }
   ],
   "source": [
    "# Logistic Regression\n",
    "lr_model = LogisticRegression()\n",
    "# Random Forest\n",
    "rf_model = RandomForestClassifier(random_state=40)\n",
    "# Gradient Boosting\n",
    "gb_model = GradientBoostingClassifier(random_state=40)\n",
    "# SVC\n",
    "svc_model = SVC(probability=True)\n",
    "# KNeighbors\n",
    "knn_model = KNeighborsClassifier()\n",
    "\n",
    "\n",
    "all_model = [rf_model, gb_model, lr_model, knn_model, svc_model]\n",
    "\n",
    "matrix = ['Model', 'Accuracy', 'Precision', 'Recall', 'F1_Score', 'ROC']\n",
    "model_results = pd.DataFrame(columns= matrix)\n",
    "\n",
    "kfold = KFold(n_splits=5)\n",
    "scoring = 'accuracy'\n",
    "\n",
    "plt.figure(figsize=(8, 7))\n",
    "\n",
    "for model in all_model:\n",
    "    name = model.__class__.__name__\n",
    "    \n",
    "    model_pipe = Pipeline(steps=[('Preprocessor', preprocessor), ('Classifier', model)])\n",
    "    \n",
    "    # Evaluate with Cross Validation\n",
    "    cv_acc = cross_val_score(estimator = model_pipe, X = X, y = y, cv = kfold, scoring=scoring)\n",
    "    \n",
    "    model_pipe.fit(X_train, y_train)\n",
    "    y_predict = model_pipe.predict(X_test)\n",
    "    \n",
    "    matrix_dict = evaluate_matrix(y_test, y_predict, name)\n",
    "    matrix_dict['Cross_Val_Acc'] = cv_acc.mean()\n",
    "    model_results = model_results.append(matrix_dict, ignore_index=True)\n",
    "    \n",
    "    # Plot TRUE POSITIVE RATE AND FALSE POSITIVE RATE\n",
    "    fpr, tpr, thresholds = roc_curve(y_test, model_pipe.predict_proba(X_test)[:,1])\n",
    "    plt.plot(fpr, tpr, label='%s ROC (area = %0.2f)' % (name, matrix_dict['ROC']))\n",
    "\n",
    "    \n",
    "plt.plot([0, 1], [0, 1],'r--')\n",
    "plt.xlim([-0.02, 1.0])\n",
    "plt.ylim([0.0, 1.02])\n",
    "plt.xlabel('1-Specificity(False Positive Rate)')\n",
    "plt.ylabel('Sensitivity(True Positive Rate)')\n",
    "plt.title('Receiver Operating Characteristic', fontsize= 16)\n",
    "plt.legend(loc=\"lower right\")\n",
    "plt.tight_layout()\n",
    "plt.show()\n",
    "\n",
    "display(model_results)"
   ]
  },
  {
   "cell_type": "markdown",
   "id": "fatal-dialogue",
   "metadata": {},
   "source": [
    "- We already trained the model without tuning hyper-parameter, and we got as above.\n",
    "- From result, we have 2 strong candidate of our model, RandomForest and GradientBoosting model.\n",
    "- As general we can see RandomForest silghtly better than GradientBoosting.\n",
    "- Because our data is quite not balance, with 68% portion is YES, and 32% is NO, we will focus to see F-1 score value, and Random forest gives us the highest score with 91%.\n",
    "- So we will choose RandomForest model to be used as our classifier model."
   ]
  },
  {
   "cell_type": "markdown",
   "id": "handed-bahamas",
   "metadata": {},
   "source": [
    "### Tuning Parameter"
   ]
  },
  {
   "cell_type": "code",
   "execution_count": 18,
   "id": "japanese-crack",
   "metadata": {},
   "outputs": [],
   "source": [
    "from sklearn.model_selection import GridSearchCV\n",
    "from sklearn.metrics import classification_report"
   ]
  },
  {
   "cell_type": "code",
   "execution_count": 19,
   "id": "mediterranean-authority",
   "metadata": {
    "scrolled": true
   },
   "outputs": [
    {
     "data": {
      "text/plain": [
       "GridSearchCV(cv=5,\n",
       "             estimator=Pipeline(steps=[('Preprocessor',\n",
       "                                        ColumnTransformer(transformers=[('Normal',\n",
       "                                                                         StandardScaler(),\n",
       "                                                                         ['YearsOfWorking']),\n",
       "                                                                        ('Not_normal',\n",
       "                                                                         MinMaxScaler(),\n",
       "                                                                         ['EngagementSurvey',\n",
       "                                                                          'EmpSatisfaction',\n",
       "                                                                          'SpecialProjectsCount',\n",
       "                                                                          'DaysLateLast30',\n",
       "                                                                          'Absences',\n",
       "                                                                          'Age',\n",
       "                                                                          'DaysLastReview',\n",
       "                                                                          'PerfValue',\n",
       "                                                                          'LevelValue']),\n",
       "                                                                        ('Cat',\n",
       "                                                                         OneHotEncoder(handle_unknown='ignore'),\n",
       "                                                                         ['MaritalStatusID',\n",
       "                                                                          'GenderID',\n",
       "                                                                          'EmpStatusID',\n",
       "                                                                          'RoleID',\n",
       "                                                                          'Tribe',\n",
       "                                                                          'RaceDesc',\n",
       "                                                                          'RecruitmentSource'])])),\n",
       "                                       ('Classifier',\n",
       "                                        RandomForestClassifier())]),\n",
       "             n_jobs=-1,\n",
       "             param_grid={'Classifier__n_estimators': [80, 150, 90, 100]},\n",
       "             scoring='accuracy')"
      ]
     },
     "execution_count": 19,
     "metadata": {},
     "output_type": "execute_result"
    }
   ],
   "source": [
    "rf_params = {'Classifier__n_estimators' : [80, 150, 90, 100]}\n",
    "\n",
    "rf_ = RandomForestClassifier()\n",
    "rf_pipe = Pipeline(steps=[('Preprocessor', preprocessor), ('Classifier', rf_)])\n",
    "\n",
    "rf_gcv = GridSearchCV(estimator= rf_pipe, param_grid=rf_params, cv=5, n_jobs=-1, scoring='accuracy')\n",
    "rf_gcv.fit(X_train, y_train)"
   ]
  },
  {
   "cell_type": "code",
   "execution_count": 20,
   "id": "material-cause",
   "metadata": {},
   "outputs": [
    {
     "data": {
      "text/plain": [
       "0.9128502415458938"
      ]
     },
     "execution_count": 20,
     "metadata": {},
     "output_type": "execute_result"
    }
   ],
   "source": [
    "rf_gcv.best_score_"
   ]
  },
  {
   "cell_type": "code",
   "execution_count": 21,
   "id": "quick-memorabilia",
   "metadata": {},
   "outputs": [
    {
     "name": "stdout",
     "output_type": "stream",
     "text": [
      "              precision    recall  f1-score   support\n",
      "\n",
      "           0       1.00      0.63      0.77        19\n",
      "           1       0.85      1.00      0.92        39\n",
      "\n",
      "    accuracy                           0.88        58\n",
      "   macro avg       0.92      0.82      0.85        58\n",
      "weighted avg       0.90      0.88      0.87        58\n",
      "\n"
     ]
    },
    {
     "data": {
      "text/plain": [
       "{'Model': 'rf_gcv',\n",
       " 'Accuracy': 0.8793103448275862,\n",
       " 'Precision': 0.8976761619190404,\n",
       " 'Recall': 0.8793103448275862,\n",
       " 'F1_Score': 0.8706536674736636,\n",
       " 'ROC': 0.8157894736842105}"
      ]
     },
     "execution_count": 21,
     "metadata": {},
     "output_type": "execute_result"
    }
   ],
   "source": [
    "predictions = rf_gcv.predict(X_test)\n",
    "print(classification_report(y_test, predictions)) \n",
    "\n",
    "evaluate_matrix(y_test, predictions, 'rf_gcv')"
   ]
  },
  {
   "cell_type": "code",
   "execution_count": 27,
   "id": "informative-detective",
   "metadata": {},
   "outputs": [
    {
     "name": "stdout",
     "output_type": "stream",
     "text": [
      "              precision    recall  f1-score   support\n",
      "\n",
      "           0       1.00      0.74      0.85        19\n",
      "           1       0.89      1.00      0.94        39\n",
      "\n",
      "    accuracy                           0.91        58\n",
      "   macro avg       0.94      0.87      0.89        58\n",
      "weighted avg       0.92      0.91      0.91        58\n",
      "\n"
     ]
    },
    {
     "data": {
      "text/plain": [
       "{'Model': 'rf_2',\n",
       " 'Accuracy': 0.9137931034482759,\n",
       " 'Precision': 0.9235893416927901,\n",
       " 'Recall': 0.9137931034482759,\n",
       " 'F1_Score': 0.9098588712215634,\n",
       " 'ROC': 0.868421052631579}"
      ]
     },
     "execution_count": 27,
     "metadata": {},
     "output_type": "execute_result"
    }
   ],
   "source": [
    "rf2 = RandomForestClassifier(random_state= 20, criterion = \"gini\")\n",
    "rf_pipe2 = Pipeline(steps=[('Preprocessor', preprocessor), ('Classifier', rf2)])\n",
    "rf_pipe2.fit(X_train, y_train)\n",
    "pred2 = rf_pipe2.predict(X_test)\n",
    "print(classification_report(y_test, pred2)) \n",
    "evaluate_matrix(y_test, pred2, 'rf_2')"
   ]
  },
  {
   "cell_type": "code",
   "execution_count": 32,
   "id": "classical-habitat",
   "metadata": {},
   "outputs": [
    {
     "data": {
      "text/plain": [
       "0.7368421052631579"
      ]
     },
     "execution_count": 32,
     "metadata": {},
     "output_type": "execute_result"
    }
   ],
   "source": [
    "recall_score(y_test, pred2, pos_label=0)"
   ]
  },
  {
   "cell_type": "code",
   "execution_count": 33,
   "id": "intellectual-anatomy",
   "metadata": {},
   "outputs": [
    {
     "data": {
      "text/plain": [
       "0.8484848484848484"
      ]
     },
     "execution_count": 33,
     "metadata": {},
     "output_type": "execute_result"
    }
   ],
   "source": [
    "f1_score(y_test, pred2,pos_label=0)"
   ]
  },
  {
   "cell_type": "code",
   "execution_count": 25,
   "id": "secure-petersburg",
   "metadata": {},
   "outputs": [],
   "source": [
    "cat_trans = list(rf_pipe2['Preprocessor'].named_transformers_['Cat'].get_feature_names())\n",
    "colums_trans = ['YearsOfWorking'] + numerical_ix + cat_trans"
   ]
  },
  {
   "cell_type": "code",
   "execution_count": 26,
   "id": "continent-diamond",
   "metadata": {},
   "outputs": [
    {
     "data": {
      "text/plain": [
       "<AxesSubplot:>"
      ]
     },
     "execution_count": 26,
     "metadata": {},
     "output_type": "execute_result"
    },
    {
     "data": {
      "image/png": "[encoded data removed]",
      "text/plain": [
       "<Figure size 576x936 with 1 Axes>"
      ]
     },
     "metadata": {
      "needs_background": "light"
     },
     "output_type": "display_data"
    }
   ],
   "source": [
    "feat_importances = pd.Series(rf_pipe2['Classifier'].feature_importances_, index=colums_trans).sort_values()\n",
    "plt.figure(figsize=(8,13))\n",
    "feat_importances.plot(kind='barh')"
   ]
  }
 ],
 "metadata": {
  "kernelspec": {
   "display_name": "Python 3",
   "language": "python",
   "name": "python3"
  },
  "language_info": {
   "codemirror_mode": {
    "name": "ipython",
    "version": 3
   },
   "file_extension": ".py",
   "mimetype": "text/x-python",
   "name": "python",
   "nbconvert_exporter": "python",
   "pygments_lexer": "ipython3",
   "version": "3.9.1"
  }
 },
 "nbformat": 4,
 "nbformat_minor": 5
}
