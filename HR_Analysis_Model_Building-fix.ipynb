{
 "cells": [
  {
   "cell_type": "code",
   "execution_count": 1,
   "id": "satellite-dubai",
   "metadata": {},
   "outputs": [],
   "source": [
    "import pandas as pd\n",
    "import numpy as np\n",
    "import matplotlib.pyplot as plt\n",
    "import seaborn as sns\n",
    "from datetime import datetime as dt"
   ]
  },
  {
   "cell_type": "markdown",
   "id": "satisfactory-theorem",
   "metadata": {},
   "source": [
    "## OBJECTIVE\n",
    "\n",
    "- In this section, we will buid MachineLearning model to predict whether employee resign or not.\n",
    "- We will try some methods to predict this class ;\n",
    "    - First, we will try basic classifier with logistic regression,\n",
    "    - Then, we also try with Nearest Neighbor.\n",
    "    - Since our data is quite small, we will try ensemble model using RandomForest and GradientBoosting."
   ]
  },
  {
   "cell_type": "markdown",
   "id": "thirty-transportation",
   "metadata": {},
   "source": [
    "## << Model Building Section >>"
   ]
  },
  {
   "cell_type": "markdown",
   "id": "anticipated-domestic",
   "metadata": {},
   "source": [
    "### Load Data"
   ]
  },
  {
   "cell_type": "code",
   "execution_count": 2,
   "id": "otherwise-coach",
   "metadata": {},
   "outputs": [],
   "source": [
    "df_ori = pd.read_csv(\"dataset HR analytics.csv\")\n",
    "df = pd.read_excel('data_clean.xlsx')"
   ]
  },
  {
   "cell_type": "markdown",
   "id": "mental-grain",
   "metadata": {},
   "source": [
    "### Check Missing Value"
   ]
  },
  {
   "cell_type": "code",
   "execution_count": 3,
   "id": "eligible-egyptian",
   "metadata": {},
   "outputs": [
    {
     "data": {
      "text/plain": [
       "MaritalStatusID         0\n",
       "GenderID                0\n",
       "EmpStatusID             0\n",
       "RoleID                  0\n",
       "LevelID                 0\n",
       "PerfScoreID             0\n",
       "Tribe                   0\n",
       "RaceDesc                0\n",
       "RecruitmentSource       0\n",
       "EngagementSurvey        0\n",
       "EmpSatisfaction         0\n",
       "SpecialProjectsCount    0\n",
       "DaysLateLast30          0\n",
       "Absences                0\n",
       "YearsOfWorking          0\n",
       "Age                     0\n",
       "DaysLastReview          0\n",
       "PerfValue               0\n",
       "LevelValue              0\n",
       "ActiveStatus            0\n",
       "dtype: int64"
      ]
     },
     "execution_count": 3,
     "metadata": {},
     "output_type": "execute_result"
    }
   ],
   "source": [
    "df.isnull().sum()"
   ]
  },
  {
   "cell_type": "markdown",
   "id": "organic-opinion",
   "metadata": {},
   "source": [
    "### Splitting Data Train - Test Split"
   ]
  },
  {
   "cell_type": "code",
   "execution_count": 4,
   "id": "stunning-absence",
   "metadata": {},
   "outputs": [],
   "source": [
    "from sklearn.model_selection import train_test_split, cross_val_score, KFold"
   ]
  },
  {
   "cell_type": "code",
   "execution_count": 5,
   "id": "communist-province",
   "metadata": {},
   "outputs": [],
   "source": [
    "df_fix = df.drop(['LevelID','PerfScoreID'], axis=1)"
   ]
  },
  {
   "cell_type": "code",
   "execution_count": 6,
   "id": "dried-vertical",
   "metadata": {},
   "outputs": [],
   "source": [
    "X = df_fix.drop('ActiveStatus', axis =1).copy()\n",
    "y = df_fix['ActiveStatus'].map({'Yes' : 1, 'No': 0}).copy()"
   ]
  },
  {
   "cell_type": "code",
   "execution_count": 7,
   "id": "median-therapist",
   "metadata": {},
   "outputs": [],
   "source": [
    "X_train, X_test, y_train, y_test = train_test_split(X, y, test_size = 0.2, stratify=y, random_state = 24)"
   ]
  },
  {
   "cell_type": "markdown",
   "id": "honey-message",
   "metadata": {},
   "source": [
    "- We split the Data into 80% training and 20% testing.\n",
    "- Then, dont forget to stratify the data, to keep our class portion is the same."
   ]
  },
  {
   "cell_type": "code",
   "execution_count": 8,
   "id": "wireless-chase",
   "metadata": {},
   "outputs": [
    {
     "name": "stdout",
     "output_type": "stream",
     "text": [
      "The Portion of YES and NO Class in ENTIRE DATA\n",
      "1    0.675958\n",
      "0    0.324042\n",
      "Name: ActiveStatus, dtype: float64\n",
      "---------------------------------------------\n",
      "The Portion of YES and NO Class in TRAINING DATA\n",
      "1    0.676856\n",
      "0    0.323144\n",
      "Name: ActiveStatus, dtype: float64\n",
      "---------------------------------------------\n",
      "The Portion of YES and NO Class in TEST DATA\n",
      "1    0.672414\n",
      "0    0.327586\n",
      "Name: ActiveStatus, dtype: float64\n"
     ]
    }
   ],
   "source": [
    "print('The Portion of YES and NO Class in ENTIRE DATA')\n",
    "print(y.value_counts()/len(y))\n",
    "print('-'*45)\n",
    "print('The Portion of YES and NO Class in TRAINING DATA')\n",
    "print(y_train.value_counts()/len(y_train))\n",
    "print('-'*45)\n",
    "print('The Portion of YES and NO Class in TEST DATA')\n",
    "print(y_test.value_counts()/len(y_test))"
   ]
  },
  {
   "cell_type": "markdown",
   "id": "located-partner",
   "metadata": {},
   "source": [
    "- Since we already split train and test data with stratify mode, but it is for Training and Test Data, for Training and Entire data we have to make sure the portion is equal.\n",
    "- After we check, the portion is equal between ENTIRE data and TRAINING data as above."
   ]
  },
  {
   "cell_type": "markdown",
   "id": "floating-yugoslavia",
   "metadata": {},
   "source": [
    "### Make Pipeline "
   ]
  },
  {
   "cell_type": "code",
   "execution_count": 9,
   "id": "hourly-guest",
   "metadata": {},
   "outputs": [],
   "source": [
    "from sklearn.preprocessing import OneHotEncoder, MinMaxScaler, StandardScaler\n",
    "from sklearn.compose import ColumnTransformer\n",
    "from sklearn.pipeline import Pipeline"
   ]
  },
  {
   "cell_type": "code",
   "execution_count": 10,
   "id": "advised-library",
   "metadata": {},
   "outputs": [
    {
     "name": "stdout",
     "output_type": "stream",
     "text": [
      "['EngagementSurvey', 'EmpSatisfaction', 'SpecialProjectsCount', 'DaysLateLast30', 'Absences', 'Age', 'DaysLastReview', 'PerfValue', 'LevelValue']\n",
      "['MaritalStatusID', 'GenderID', 'EmpStatusID', 'RoleID', 'Tribe', 'RaceDesc', 'RecruitmentSource']\n"
     ]
    }
   ],
   "source": [
    "numerical_ix = list(X.select_dtypes(include=['int64', 'float64']).columns)\n",
    "categorical_ix = list(X.select_dtypes(include=['object', 'bool']).columns)\n",
    "numerical_ix.remove('YearsOfWorking')\n",
    "\n",
    "print(numerical_ix)\n",
    "print(categorical_ix)"
   ]
  },
  {
   "cell_type": "code",
   "execution_count": 11,
   "id": "aboriginal-justice",
   "metadata": {},
   "outputs": [],
   "source": [
    "numeric_transformer1 = StandardScaler() # for normal distribution \"YearsofWorking\"\n",
    "numeric_transformer2 = MinMaxScaler()   # for not normal distribution feature\n",
    "categorical_transformer = OneHotEncoder(handle_unknown='ignore') # for Categorical Feature"
   ]
  },
  {
   "cell_type": "code",
   "execution_count": 12,
   "id": "contrary-stockholm",
   "metadata": {},
   "outputs": [],
   "source": [
    "preprocessor = ColumnTransformer(transformers = [\n",
    "                 ('Normal', numeric_transformer1, ['YearsOfWorking']),\n",
    "                 ('Not_normal', numeric_transformer2, numerical_ix),\n",
    "                 ('Cat', categorical_transformer, categorical_ix)])"
   ]
  },
  {
   "cell_type": "markdown",
   "id": "streaming-promotion",
   "metadata": {},
   "source": [
    "- This step, we create the preprocessing step, to make easier when we train the model.\n",
    "- For Categorical Feature we use onehotencoder, and for Continues Feature we use Standard Scaler and MinMax Scaler.\n",
    "- Note : YearsofWorking is Normally Distributed, we already knew that from EDA section before."
   ]
  },
  {
   "cell_type": "markdown",
   "id": "arbitrary-drama",
   "metadata": {},
   "source": [
    "### Building Model for Training - Testing"
   ]
  },
  {
   "cell_type": "markdown",
   "id": "urban-gross",
   "metadata": {},
   "source": [
    "- We will try 5 Models to see which one does it better in seperating Positive and Negative Class ;\n",
    "    - Logistic Regression from Linear model\n",
    "    - Ensemble Model, we try model Random Forest and Gradient Boosting\n",
    "    - Neighbors Model, we try KNN Classifier\n",
    "    - And lastly, we are also interested in Support Vector Machine"
   ]
  },
  {
   "cell_type": "code",
   "execution_count": 13,
   "id": "periodic-granny",
   "metadata": {},
   "outputs": [],
   "source": [
    "from sklearn.metrics import  accuracy_score, roc_curve, f1_score, precision_score, confusion_matrix, recall_score, roc_auc_score\n",
    "from sklearn.linear_model import LogisticRegression\n",
    "from sklearn.ensemble import RandomForestClassifier, GradientBoostingClassifier\n",
    "from sklearn.svm import SVC\n",
    "from sklearn.neighbors import KNeighborsClassifier"
   ]
  },
  {
   "cell_type": "code",
   "execution_count": 14,
   "id": "lucky-civilian",
   "metadata": {},
   "outputs": [],
   "source": [
    "def evaluate_matrix(ytrue, ypred, name):\n",
    "    matrix_name = ['Model', 'Accuracy', 'Precision', 'Recall', 'F1_Score','ROC']\n",
    "    acc = accuracy_score(ytrue, ypred)\n",
    "    roc = roc_auc_score(ytrue, ypred)\n",
    "    prec = precision_score(ytrue, ypred, average='weighted')\n",
    "    rec = recall_score(ytrue, ypred, average='weighted')\n",
    "    f1 = f1_score(ytrue, ypred, average='weighted')\n",
    "    \n",
    "    matrix_dict = dict(zip(matrix_name, [name, acc, prec, rec, f1, roc]))\n",
    "    \n",
    "    return matrix_dict"
   ]
  },
  {
   "cell_type": "code",
   "execution_count": 15,
   "id": "suitable-occupation",
   "metadata": {
    "scrolled": false
   },
   "outputs": [
    {
     "data": {
      "image/png": "[encoded data removed]",
      "text/plain": [
       "<Figure size 576x504 with 1 Axes>"
      ]
     },
     "metadata": {
      "needs_background": "light"
     },
     "output_type": "display_data"
    },
    {
     "data": {
      "text/html": [
       "<div>\n",
       "<style scoped>\n",
       "    .dataframe tbody tr th:only-of-type {\n",
       "        vertical-align: middle;\n",
       "    }\n",
       "\n",
       "    .dataframe tbody tr th {\n",
       "        vertical-align: top;\n",
       "    }\n",
       "\n",
       "    .dataframe thead th {\n",
       "        text-align: right;\n",
       "    }\n",
       "</style>\n",
       "<table border=\"1\" class=\"dataframe\">\n",
       "  <thead>\n",
       "    <tr style=\"text-align: right;\">\n",
       "      <th></th>\n",
       "      <th>Model</th>\n",
       "      <th>Accuracy</th>\n",
       "      <th>Precision</th>\n",
       "      <th>Recall</th>\n",
       "      <th>F1_Score</th>\n",
       "      <th>ROC</th>\n",
       "      <th>Cross_Val_Acc</th>\n",
       "    </tr>\n",
       "  </thead>\n",
       "  <tbody>\n",
       "    <tr>\n",
       "      <th>0</th>\n",
       "      <td>RandomForestClassifier</td>\n",
       "      <td>0.913793</td>\n",
       "      <td>0.923589</td>\n",
       "      <td>0.913793</td>\n",
       "      <td>0.909859</td>\n",
       "      <td>0.868421</td>\n",
       "      <td>0.909316</td>\n",
       "    </tr>\n",
       "    <tr>\n",
       "      <th>1</th>\n",
       "      <td>GradientBoostingClassifier</td>\n",
       "      <td>0.879310</td>\n",
       "      <td>0.884908</td>\n",
       "      <td>0.879310</td>\n",
       "      <td>0.873802</td>\n",
       "      <td>0.829285</td>\n",
       "      <td>0.937508</td>\n",
       "    </tr>\n",
       "    <tr>\n",
       "      <th>2</th>\n",
       "      <td>LogisticRegression</td>\n",
       "      <td>0.758621</td>\n",
       "      <td>0.749779</td>\n",
       "      <td>0.758621</td>\n",
       "      <td>0.744612</td>\n",
       "      <td>0.685560</td>\n",
       "      <td>0.797822</td>\n",
       "    </tr>\n",
       "    <tr>\n",
       "      <th>3</th>\n",
       "      <td>KNeighborsClassifier</td>\n",
       "      <td>0.758621</td>\n",
       "      <td>0.750067</td>\n",
       "      <td>0.758621</td>\n",
       "      <td>0.750309</td>\n",
       "      <td>0.699055</td>\n",
       "      <td>0.766425</td>\n",
       "    </tr>\n",
       "    <tr>\n",
       "      <th>4</th>\n",
       "      <td>SVC</td>\n",
       "      <td>0.793103</td>\n",
       "      <td>0.797372</td>\n",
       "      <td>0.793103</td>\n",
       "      <td>0.775140</td>\n",
       "      <td>0.711201</td>\n",
       "      <td>0.815064</td>\n",
       "    </tr>\n",
       "  </tbody>\n",
       "</table>\n",
       "</div>"
      ],
      "text/plain": [
       "                        Model  Accuracy  Precision    Recall  F1_Score  \\\n",
       "0      RandomForestClassifier  0.913793   0.923589  0.913793  0.909859   \n",
       "1  GradientBoostingClassifier  0.879310   0.884908  0.879310  0.873802   \n",
       "2          LogisticRegression  0.758621   0.749779  0.758621  0.744612   \n",
       "3        KNeighborsClassifier  0.758621   0.750067  0.758621  0.750309   \n",
       "4                         SVC  0.793103   0.797372  0.793103  0.775140   \n",
       "\n",
       "        ROC  Cross_Val_Acc  \n",
       "0  0.868421       0.909316  \n",
       "1  0.829285       0.937508  \n",
       "2  0.685560       0.797822  \n",
       "3  0.699055       0.766425  \n",
       "4  0.711201       0.815064  "
      ]
     },
     "metadata": {},
     "output_type": "display_data"
    }
   ],
   "source": [
    "# Logistic Regression\n",
    "lr_model = LogisticRegression()\n",
    "# Random Forest\n",
    "rf_model = RandomForestClassifier(random_state=40)\n",
    "# Gradient Boosting\n",
    "gb_model = GradientBoostingClassifier(random_state=40)\n",
    "# SVC\n",
    "svc_model = SVC(probability=True)\n",
    "# KNeighbors\n",
    "knn_model = KNeighborsClassifier()\n",
    "\n",
    "\n",
    "all_model = [rf_model, gb_model, lr_model, knn_model, svc_model]\n",
    "\n",
    "matrix = ['Model', 'Accuracy', 'Precision', 'Recall', 'F1_Score', 'ROC']\n",
    "model_results = pd.DataFrame(columns= matrix)\n",
    "\n",
    "kfold = KFold(n_splits=5)\n",
    "scoring = 'accuracy'\n",
    "\n",
    "plt.figure(figsize=(8, 7))\n",
    "\n",
    "for model in all_model:\n",
    "    name = model.__class__.__name__\n",
    "    \n",
    "    model_pipe = Pipeline(steps=[('Preprocessor', preprocessor), ('Classifier', model)])\n",
    "    \n",
    "    # Evaluate with Cross Validation\n",
    "    cv_acc = cross_val_score(estimator = model_pipe, X = X, y = y, cv = kfold, scoring=scoring)\n",
    "    \n",
    "    model_pipe.fit(X_train, y_train)\n",
    "    y_predict = model_pipe.predict(X_test)\n",
    "    \n",
    "    matrix_dict = evaluate_matrix(y_test, y_predict, name)\n",
    "    matrix_dict['Cross_Val_Acc'] = cv_acc.mean()\n",
    "    model_results = model_results.append(matrix_dict, ignore_index=True)\n",
    "    \n",
    "    # Plot TRUE POSITIVE RATE AND FALSE POSITIVE RATE\n",
    "    fpr, tpr, thresholds = roc_curve(y_test, model_pipe.predict_proba(X_test)[:,1])\n",
    "    plt.plot(fpr, tpr, label='%s ROC (area = %0.2f)' % (name, matrix_dict['ROC']))\n",
    "\n",
    "    \n",
    "plt.plot([0, 1], [0, 1],'r--')\n",
    "plt.xlim([-0.02, 1.0])\n",
    "plt.ylim([0.0, 1.02])\n",
    "plt.xlabel('1-Specificity(False Positive Rate)')\n",
    "plt.ylabel('Sensitivity(True Positive Rate)')\n",
    "plt.title('Receiver Operating Characteristic', fontsize= 16)\n",
    "plt.legend(loc=\"lower right\")\n",
    "plt.tight_layout()\n",
    "plt.show()\n",
    "\n",
    "display(model_results)"
   ]
  },
  {
   "cell_type": "markdown",
   "id": "fatal-dialogue",
   "metadata": {},
   "source": [
    "- We already trained the model without tuning hyper-parameter, and we got as above.\n",
    "- From result, we have 2 strong candidate of our model, RandomForest and GradientBoosting model.\n",
    "- As general we can see RandomForest silghtly better than GradientBoosting.\n",
    "- Because our data is quite not balance, with 68% portion is YES, and 32% is NO, we will focus to see F-1 score value, and Random forest gives us the highest score with 91%. And also RandomForest has the highest value of ROC.\n",
    "- So we will choose RandomForest model to be used as our classifier model."
   ]
  },
  {
   "cell_type": "markdown",
   "id": "disciplinary-accused",
   "metadata": {},
   "source": [
    "## Building Overall Model"
   ]
  },
  {
   "cell_type": "markdown",
   "id": "limited-title",
   "metadata": {},
   "source": [
    "- In this section we will put all the data including the transformation Age, YearsOfWorking etc in one Class, so we can use to predict with raw Data.\n",
    "- And also we train all data into the final model, to give the model all the information that we have."
   ]
  },
  {
   "cell_type": "code",
   "execution_count": 16,
   "id": "optical-samuel",
   "metadata": {},
   "outputs": [
    {
     "data": {
      "text/plain": [
       "Pipeline(steps=[('Preprocessor',\n",
       "                 ColumnTransformer(transformers=[('Normal', StandardScaler(),\n",
       "                                                  ['YearsOfWorking']),\n",
       "                                                 ('Not_normal', MinMaxScaler(),\n",
       "                                                  ['EngagementSurvey',\n",
       "                                                   'EmpSatisfaction',\n",
       "                                                   'SpecialProjectsCount',\n",
       "                                                   'DaysLateLast30', 'Absences',\n",
       "                                                   'Age', 'DaysLastReview',\n",
       "                                                   'PerfValue', 'LevelValue']),\n",
       "                                                 ('Cat',\n",
       "                                                  OneHotEncoder(handle_unknown='ignore'),\n",
       "                                                  ['MaritalStatusID',\n",
       "                                                   'GenderID', 'EmpStatusID',\n",
       "                                                   'RoleID', 'Tribe',\n",
       "                                                   'RaceDesc',\n",
       "                                                   'RecruitmentSource'])])),\n",
       "                ('Classifier', RandomForestClassifier(random_state=40))])"
      ]
     },
     "execution_count": 16,
     "metadata": {},
     "output_type": "execute_result"
    }
   ],
   "source": [
    "final_model_pipe = Pipeline(steps=[('Preprocessor', preprocessor), \n",
    "                             ('Classifier', RandomForestClassifier(random_state=40))])\n",
    "final_model_pipe.fit(X, y)"
   ]
  },
  {
   "cell_type": "code",
   "execution_count": 17,
   "id": "occupied-prime",
   "metadata": {},
   "outputs": [],
   "source": [
    "class ModelPredictor():\n",
    "    def __init__(self, data):\n",
    "        self.today_assumsion =  dt.now()\n",
    "        self.model = final_model_pipe\n",
    "        \n",
    "        self.dict_level = {'Senior': 3, 'Middle': 2, 'Junior': 1}\n",
    "        \n",
    "        self.dict_perf = {'Exceed': 5,\n",
    "                 'Fully meets': 4,\n",
    "                 'Average': 3,\n",
    "                 'Need improvement': 2,\n",
    "                 'Special treatment': 1}\n",
    "        \n",
    "        self.column_select = ['MaritalStatusID', 'GenderID', 'EmpStatusID', 'RoleID', 'Tribe',\n",
    "                              'RaceDesc', 'RecruitmentSource', 'EngagementSurvey', 'EmpSatisfaction',\n",
    "                              'SpecialProjectsCount', 'DaysLateLast30', 'Absences', 'YearsOfWorking',\n",
    "                              'Age', 'DaysLastReview', 'PerfValue', 'LevelValue']\n",
    "        \n",
    "        self.df = pd.DataFrame(data)\n",
    "\n",
    "        \n",
    "    def duration(self, date, terminate='NaT', option = 'Y'):\n",
    "        date = pd.to_datetime(date)\n",
    "        \n",
    "        if str(terminate) == 'NaT':\n",
    "            days = self.today_assumsion - date\n",
    "        else:\n",
    "            days = terminate - date\n",
    "\n",
    "        result = np.timedelta64(days, 'ns').astype(f'timedelta64[{option}]')/np.timedelta64(1, f'{option}')\n",
    "\n",
    "        return result\n",
    "    \n",
    "    def age(self, dob, terminate='NaT'):\n",
    "        check_date = len(dob)- dob.rfind('/')\n",
    "        if check_date == 3:\n",
    "            date = list(dob)\n",
    "            date.insert(6, '19')\n",
    "            dob = ''.join(date)\n",
    "\n",
    "        date_dob = pd.to_datetime(dob)\n",
    "\n",
    "        if str(terminate) == 'NaT':\n",
    "            days = self.today_assumsion - date_dob\n",
    "        else:\n",
    "            days = terminate - date_dob\n",
    "\n",
    "        year = np.timedelta64(days, 'ns').astype('timedelta64[Y]')/np.timedelta64(1, 'Y')\n",
    "\n",
    "        return year\n",
    "        \n",
    "    def make_prediction(self):\n",
    "        df = self.df.copy()\n",
    "        df['LevelValue'] = df['LevelID'].map(self.dict_level)\n",
    "        df['PerfValue'] = df['PerfScoreID'].map(self.dict_perf)\n",
    "        df['YearsOfWorking'] = df.apply(lambda x : self.duration(x['DateofHire']), axis=1)\n",
    "        df['Age'] = df.apply(lambda x : self.age(x['DOB']), axis=1)\n",
    "        df['DaysLastReview'] = df.apply(lambda x : self.duration(x['LastPerformanceReview_Date'], option='D'), axis=1)\n",
    "        \n",
    "        final_df = df[self.column_select]\n",
    "        \n",
    "        predict = self.model.predict(final_df)\n",
    "        \n",
    "        return predict"
   ]
  },
  {
   "cell_type": "code",
   "execution_count": 18,
   "id": "sustained-personal",
   "metadata": {},
   "outputs": [
    {
     "data": {
      "text/plain": [
       "0.9655172413793104"
      ]
     },
     "execution_count": 18,
     "metadata": {},
     "output_type": "execute_result"
    }
   ],
   "source": [
    "test_data = df_ori.iloc[X_test.index]\n",
    "res_final = ModelPredictor(test_data).make_prediction()\n",
    "accuracy_score(y_test, res_final)"
   ]
  },
  {
   "cell_type": "markdown",
   "id": "funded-sussex",
   "metadata": {},
   "source": [
    "- After testing with Raw Data, we get our score 96% on Accuracy, it seems our model is good enough to make a Prediction."
   ]
  },
  {
   "cell_type": "markdown",
   "id": "brilliant-basketball",
   "metadata": {},
   "source": [
    "## << END of Model Building Section >>"
   ]
  }
 ],
 "metadata": {
  "kernelspec": {
   "display_name": "Python 3",
   "language": "python",
   "name": "python3"
  },
  "language_info": {
   "codemirror_mode": {
    "name": "ipython",
    "version": 3
   },
   "file_extension": ".py",
   "mimetype": "text/x-python",
   "name": "python",
   "nbconvert_exporter": "python",
   "pygments_lexer": "ipython3",
   "version": "3.9.1"
  }
 },
 "nbformat": 4,
 "nbformat_minor": 5
}
